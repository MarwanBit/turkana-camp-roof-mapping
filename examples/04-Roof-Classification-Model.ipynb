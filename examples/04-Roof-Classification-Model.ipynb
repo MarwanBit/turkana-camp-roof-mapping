{
 "cells": [
  {
   "cell_type": "code",
   "execution_count": 1,
   "metadata": {},
   "outputs": [],
   "source": [
    "# Copyright (c) Microsoft Corporation. All rights reserved.\n",
    "# Licensed under the MIT License."
   ]
  },
  {
   "cell_type": "markdown",
   "metadata": {},
   "source": [
    "# Roof Material Classification Model"
   ]
  },
  {
   "cell_type": "code",
   "execution_count": 2,
   "metadata": {},
   "outputs": [
    {
     "name": "stderr",
     "output_type": "stream",
     "text": [
      "/opt/conda/envs/u4u-clean-2/lib/python3.10/site-packages/tqdm/auto.py:21: TqdmWarning: IProgress not found. Please update jupyter and ipywidgets. See https://ipywidgets.readthedocs.io/en/stable/user_install.html\n",
      "  from .autonotebook import tqdm as notebook_tqdm\n"
     ]
    }
   ],
   "source": [
    "import pickle\n",
    "import tempfile\n",
    "from pathlib import Path\n",
    "from types import SimpleNamespace\n",
    "\n",
    "import geopandas as gpd\n",
    "import rasterio\n",
    "import torch\n",
    "import matplotlib.pyplot as plt\n",
    "\n",
    "from src.geo_utils import filter_points_to_raster\n",
    "from scripts.roof_material_classification.inference import inference as roof_material_inference"
   ]
  },
  {
   "cell_type": "markdown",
   "metadata": {},
   "source": [
    "## Training a Roof Material Classifier\n",
    "\n",
    "Here is an example of how to use the roof material classification model training script:\n",
    "\n",
    "```bash\n",
    "cd scripts/roof_material_classification\n",
    "python train.py --exp-version example --data-dir ../../data/processed/example_chipped_datasets/roof_material_classification/ --tile-split-file ../../config/examples/data_preprocessing/tiled_dataset_splits/tiled_dataset_splits_1.yml --output-dir ../../outputs/\n",
    "```\n",
    "This command initiates trainining a roof classification model using the chip dataset in the specified `data-dir`. The dataset is divided into training, validation, and test set chips according to the tile distribution defined in the `tile-split-file`. Training outputs, including model checkpoints and a pickle file containing metrics collected during training, are saved in a subdirectory of `output-dir` called `roof_material_classification`, inside another subdirectory containing the `exp-version`.\n",
    "\n",
    "Let's plot the epoch-wise training and validation losses, the test loss of the best checkpoint (based on validation loss), and accuracy and confusion matrix:"
   ]
  },
  {
   "cell_type": "code",
   "execution_count": 3,
   "metadata": {},
   "outputs": [
    {
     "data": {
      "image/png": "[encoded data removed]",
      "text/plain": [
       "<Figure size 500x300 with 1 Axes>"
      ]
     },
     "metadata": {},
     "output_type": "display_data"
    }
   ],
   "source": [
    "metrics_f = '../outputs/roof_material_classification/example-2024-01-19-01-44-00/metrics.pkl'\n",
    "metrics = pickle.load(open(metrics_f, 'rb'))\n",
    "\n",
    "# Plot train and val loss over epochs + final test loss\n",
    "plt.figure(figsize=(5, 3))\n",
    "plt.plot(metrics['train_losses'], label='train')\n",
    "plt.plot(metrics['val_losses'], label='val')\n",
    "best_epoch = metrics['val_losses'].index(min(metrics['val_losses'])) # Get epoch with best val loss\n",
    "plt.scatter(best_epoch, metrics['test_loss'], label='test', color='green', marker='x')\n",
    "plt.legend(frameon=False)\n",
    "plt.xlabel('Epoch')\n",
    "plt.ylabel('Loss')\n",
    "plt.title('Roof Material Classification Loss')\n",
    "plt.tight_layout()\n",
    "plt.show()\n"
   ]
  },
  {
   "cell_type": "code",
   "execution_count": 4,
   "metadata": {},
   "outputs": [
    {
     "name": "stdout",
     "output_type": "stream",
     "text": [
      "{0: 'metal_sheet', 1: 'plastic', 2: 'thatch', 3: 'other'}\n",
      "Test accuracy: 66.67%\n",
      "Test confusion matrix:\n",
      "[[ 8  0  0]\n",
      " [ 1 11  0]\n",
      " [ 0 11  5]]\n"
     ]
    }
   ],
   "source": [
    "# Examine test accuracy and confusion matrix\n",
    "print(metrics['label_to_class'])\n",
    "print('Test accuracy: {:.2f}%'.format(metrics['test_accuracy']*100))\n",
    "print('Test confusion matrix:')\n",
    "print(metrics['test_confusion_matrix'])"
   ]
  },
  {
   "cell_type": "markdown",
   "metadata": {},
   "source": [
    "## Running Inference with a Trained Roof Classification Model\n",
    "\n",
    "The command below allows you to run inference using a specified checkpoint for a trained roof material classifier. The command scans the specified `image-dir` for TIFF files. For each image TIFF, it searches the specified `building-detections-dir` for a corresponding vector file of building polygons, denoted by the suffix `_buildings.gpkg`. The command uses these paired imagery and building polygons to generate input chips for the roof classifier. The predictions for each imagery file are then saved to a geopackage. This geopackage is a vector file with point geometries, each representing the center of a building polygon. The softmax score for each roof material class, as well as the argmax class, are included as data columns.\n",
    "\n",
    "It's worth noting that in the example command below we are using the vectorized building prediction outputs from the semantic segmentation model as the source of these building polygons.\n",
    "```bash\n",
    "python inference.py --checkpoint-path ../../outputs/roof_material_classification/example-2024-01-19-01-44-00/checkpoints/epoch\\=4_val_loss\\=0.2140.ckpt --image-dir ../../data/interim/example_mosaic_cogs/ --building-detections-dir ../../outputs/semantic_segmentation/example-2024-01-19-01-06-30/inference/\n",
    "```\n",
    "Alternatively, we can use annotations as building polygon inputs. For example, our annotations file contains some building polygons that lack roof material labels. Let's run inference on such polygons in the Kakuma 15 region:\n"
   ]
  },
  {
   "cell_type": "code",
   "execution_count": 5,
   "metadata": {},
   "outputs": [
    {
     "name": "stdout",
     "output_type": "stream",
     "text": [
      "Unlabeled roofs in imagery file kakuma_15.tif: 183\n"
     ]
    },
    {
     "name": "stderr",
     "output_type": "stream",
     "text": [
      "/opt/conda/envs/u4u-clean-2/lib/python3.10/site-packages/torchvision/models/_utils.py:208: UserWarning: The parameter 'pretrained' is deprecated since 0.13 and may be removed in the future, please use 'weights' instead.\n",
      "  warnings.warn(\n",
      "/opt/conda/envs/u4u-clean-2/lib/python3.10/site-packages/torchvision/models/_utils.py:223: UserWarning: Arguments other than a weight enum or `None` for 'weights' are deprecated since 0.13 and may be removed in the future. The current behavior is equivalent to passing `weights=ResNet18_Weights.IMAGENET1K_V1`. You can also use `weights=ResNet18_Weights.DEFAULT` to get the most up-to-date weights.\n",
      "  warnings.warn(msg)\n"
     ]
    }
   ],
   "source": [
    "# Load annotations\n",
    "annotations_f = '../data/interim/example_annotations/polygons-Kakuma_15.gpkg'\n",
    "annotations = gpd.read_file(annotations_f).to_crs(32636)\n",
    "\n",
    "# Get rows where building is not null but roof_material is null\n",
    "annotations = annotations[~annotations[\"building\"].isna() & annotations[\"roof:material\"].isna()].copy()\n",
    "\n",
    "# Get rows whose geometry falls within a specific imagery file extent\n",
    "imagery_f = '../data/interim/example_mosaic_cogs/kakuma_15.tif'\n",
    "with rasterio.open(imagery_f) as src:\n",
    "    filtered_annotations = filter_points_to_raster(annotations, src)\n",
    "print('Unlabeled roofs in imagery file {}: {}'.format(Path(imagery_f).name, len(filtered_annotations)))\n",
    "\n",
    "# Create a temporary file\n",
    "temp = tempfile.NamedTemporaryFile(suffix='.gpkg', delete=False)\n",
    "\n",
    "try:\n",
    "    # Save the GeoDataFrame to the temporary file\n",
    "    annotations.to_file(temp.name, driver='GeoJSON')\n",
    "\n",
    "    # Run inference\n",
    "    checkpoint_f = '../outputs/roof_material_classification/example-2024-01-19-01-44-00/checkpoints/epoch=4_val_loss=0.2140.ckpt'\n",
    "    out_f = '../outputs/roof_material_classification/example-2024-01-19-01-44-00/inference/epoch=4_val_loss=0.2140/kakuma_15-annotations-predictions.gpkg'\n",
    "    Path(out_f).parent.mkdir(parents=True, exist_ok=True)\n",
    "    args = SimpleNamespace(batch_size=64, num_workers=12, device=torch.device(\"cuda:0\"))\n",
    "    \n",
    "    roof_material_inference(checkpoint_f, imagery_f, temp.name, out_f, args)\n",
    "\n",
    "finally:\n",
    "    # Ensure the temporary file with filtered annotations is deleted\n",
    "    Path(temp.name).unlink()"
   ]
  },
  {
   "cell_type": "markdown",
   "metadata": {},
   "source": [
    "Now, we have roof material predictions for 181 out of 183 annotated buildings in Kakuma 15 that did not have roof material labels. The two that did not get predictions were excluded because their area was less than 1m^2, causing them to be filtered out."
   ]
  }
 ],
 "metadata": {
  "kernelspec": {
   "display_name": "u4u-clean-2",
   "language": "python",
   "name": "python3"
  },
  "language_info": {
   "codemirror_mode": {
    "name": "ipython",
    "version": 3
   },
   "file_extension": ".py",
   "mimetype": "text/x-python",
   "name": "python",
   "nbconvert_exporter": "python",
   "pygments_lexer": "ipython3",
   "version": "3.10.13"
  },
  "vscode": {
   "interpreter": {
    "hash": "bda9b7441e9eefa9e428b1885880812045dd4fe48e29d5a64d990681f62cb728"
   }
  }
 },
 "nbformat": 4,
 "nbformat_minor": 2
}
